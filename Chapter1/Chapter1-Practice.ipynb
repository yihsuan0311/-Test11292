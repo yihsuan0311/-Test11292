{
 "cells": [
  {
   "cell_type": "code",
   "execution_count": 14,
   "id": "5e72a3ac",
   "metadata": {
    "scrolled": true
   },
   "outputs": [
    {
     "name": "stdout",
     "output_type": "stream",
     "text": [
      "documentInfo = {'/Author': 'win7', '/CreationDate': \"D:20220809105930+08'00'\", '/ModDate': \"D:20220809105930+08'00'\", '/Producer': 'Microsoft® Excel® 2016', '/Creator': 'Microsoft® Excel® 2016'}\n",
      "pagelayout = None \n",
      "pageMode = None\n",
      "pageCount = 4\n",
      "xmpMetadata = None\n",
      "index = 0, pageObj = <class 'PyPDF2._page.PageObject'>\n",
      "index = 1, pageObj = <class 'PyPDF2._page.PageObject'>\n",
      "index = 2, pageObj = <class 'PyPDF2._page.PageObject'>\n",
      "index = 3, pageObj = <class 'PyPDF2._page.PageObject'>\n"
     ]
    }
   ],
   "source": [
    "from PyPDF2 import PdfFileReader,PdfFileWriter\n",
    "file_Name = '台南郭綜合-健檢項目.pdf'\n",
    "pdfFileReader = PdfFileReader(open(file_Name,'rb'))\n",
    "\n",
    "documentInfo = pdfFileReader.getDocumentInfo()\n",
    "print(\"documentInfo = %s\"%documentInfo)\n",
    "\n",
    "pagelayout = pdfFileReader.getPageLayout()\n",
    "print(\"pagelayout = %s \"%pagelayout)\n",
    "\n",
    "pageMode = pdfFileReader.getPageMode()\n",
    "print(\"pageMode = %s\"% pageMode)\n",
    "\n",
    "pageCount = pdfFileReader.getNumPages()\n",
    "print(\"pageCount = %s\"% pageCount)\n",
    "\n",
    "xmpMetadata = pdfFileReader.getXmpMetadata()\n",
    "print(\"xmpMetadata = %s\"%xmpMetadata)\n",
    "\n",
    "for i in range(pageCount):\n",
    "    xx = pdfFileReader.getPage(i)\n",
    "    print(\"index = %d, pageObj = %s\"%(i,type(xx)))\n"
   ]
  },
  {
   "cell_type": "code",
   "execution_count": 3,
   "id": "e097ec3e",
   "metadata": {},
   "outputs": [
    {
     "name": "stdout",
     "output_type": "stream",
     "text": [
      "3030 <class 'str'>\n"
     ]
    }
   ],
   "source": [
    "x1 =\"30\"\n",
    "y1 = 2\n",
    "a = x1 * y1\n",
    "print(a,type(a))"
   ]
  },
  {
   "cell_type": "code",
   "execution_count": 6,
   "id": "bbaea4b5",
   "metadata": {},
   "outputs": [
    {
     "name": "stdout",
     "output_type": "stream",
     "text": [
      "123                 \n"
     ]
    }
   ],
   "source": [
    "x=123\n",
    "print(\"%-20d\"%x)"
   ]
  },
  {
   "cell_type": "code",
   "execution_count": 9,
   "id": "d60a935c",
   "metadata": {},
   "outputs": [
    {
     "name": "stdout",
     "output_type": "stream",
     "text": [
      "9.65\n"
     ]
    }
   ],
   "source": [
    "B= \"9.65\"\n",
    "print(\"%s\"%B)"
   ]
  },
  {
   "cell_type": "code",
   "execution_count": 10,
   "id": "61a434b0",
   "metadata": {},
   "outputs": [
    {
     "name": "stdout",
     "output_type": "stream",
     "text": [
      "1.0\n"
     ]
    }
   ],
   "source": [
    "a=1\n",
    "b=2\n",
    "c=3\n",
    "ans = a/b+c/b-(c+c+a)%b\n",
    "print(ans)"
   ]
  },
  {
   "cell_type": "code",
   "execution_count": 11,
   "id": "a0d18206",
   "metadata": {},
   "outputs": [
    {
     "name": "stdout",
     "output_type": "stream",
     "text": [
      "(6, 3)\n"
     ]
    }
   ],
   "source": [
    "print(divmod(33,5))"
   ]
  },
  {
   "cell_type": "code",
   "execution_count": 12,
   "id": "cae25c30",
   "metadata": {},
   "outputs": [
    {
     "name": "stdout",
     "output_type": "stream",
     "text": [
      "True\n"
     ]
    }
   ],
   "source": [
    "x = True\n",
    "y = False\n",
    "print(x or y)"
   ]
  },
  {
   "cell_type": "code",
   "execution_count": 13,
   "id": "56d800aa",
   "metadata": {},
   "outputs": [
    {
     "name": "stdout",
     "output_type": "stream",
     "text": [
      "False\n"
     ]
    }
   ],
   "source": [
    "print(bool(0))"
   ]
  },
  {
   "cell_type": "code",
   "execution_count": 16,
   "id": "08337bf7",
   "metadata": {},
   "outputs": [
    {
     "name": "stdout",
     "output_type": "stream",
     "text": [
      "54 55 56 "
     ]
    }
   ],
   "source": [
    "num = 54\n",
    "while(num % 7 >=0):\n",
    "    print(\"%d\"%(num),end=' ')\n",
    "    if num % 7 ==0:\n",
    "        break\n",
    "    num+=1\n",
    "# else:\n",
    "#     print(num)"
   ]
  },
  {
   "cell_type": "code",
   "execution_count": 19,
   "id": "e392c9c2",
   "metadata": {},
   "outputs": [
    {
     "name": "stdout",
     "output_type": "stream",
     "text": [
      "6 5\n"
     ]
    }
   ],
   "source": [
    "i  = 6\n",
    "while i<=6:\n",
    "    print(i,end=' ')\n",
    "    i+=1\n",
    "else:\n",
    "    print('5')"
   ]
  },
  {
   "cell_type": "code",
   "execution_count": 22,
   "id": "244602a2",
   "metadata": {},
   "outputs": [
    {
     "name": "stdout",
     "output_type": "stream",
     "text": [
      "15\n"
     ]
    }
   ],
   "source": [
    "Sum = 0\n",
    "n = 0\n",
    "while n<=5:\n",
    "    Sum +=n\n",
    "    n+=1\n",
    "print(Sum)"
   ]
  },
  {
   "cell_type": "code",
   "execution_count": 23,
   "id": "ffacbb76",
   "metadata": {},
   "outputs": [
    {
     "name": "stdout",
     "output_type": "stream",
     "text": [
      "20\n"
     ]
    }
   ],
   "source": [
    "Sum = 5\n",
    "n = 5\n",
    "for i in range(1,n+1):\n",
    "    Sum +=i\n",
    "print(Sum)"
   ]
  },
  {
   "cell_type": "code",
   "execution_count": 25,
   "id": "bc9da545",
   "metadata": {},
   "outputs": [
    {
     "name": "stdout",
     "output_type": "stream",
     "text": [
      "25\n"
     ]
    }
   ],
   "source": [
    "Sum = 0\n",
    "n = 10\n",
    "for i in range(1,n+1,2):\n",
    "    Sum +=i\n",
    "print(Sum)"
   ]
  },
  {
   "cell_type": "code",
   "execution_count": 26,
   "id": "e50ce872",
   "metadata": {},
   "outputs": [
    {
     "name": "stdout",
     "output_type": "stream",
     "text": [
      "12\n"
     ]
    }
   ],
   "source": [
    "Sum = 0\n",
    "for i in range(1,5,2):\n",
    "    for j in range(3):\n",
    "        Sum +=i\n",
    "print(Sum)"
   ]
  },
  {
   "cell_type": "code",
   "execution_count": 27,
   "id": "c91987a0",
   "metadata": {},
   "outputs": [
    {
     "name": "stdout",
     "output_type": "stream",
     "text": [
      "6\n"
     ]
    }
   ],
   "source": [
    "Sum = i =0\n",
    "while i<=5:\n",
    "    Sum +=i\n",
    "    if i>=3:\n",
    "        break\n",
    "    i+=1\n",
    "print(Sum)"
   ]
  },
  {
   "cell_type": "code",
   "execution_count": 29,
   "id": "c291f8b2",
   "metadata": {},
   "outputs": [
    {
     "name": "stdout",
     "output_type": "stream",
     "text": [
      "5\n"
     ]
    }
   ],
   "source": [
    "i=1\n",
    "while i <=3:\n",
    "    i+=1\n",
    "    if i>=i:\n",
    "        i+=1\n",
    "        continue\n",
    "print(i)"
   ]
  },
  {
   "cell_type": "code",
   "execution_count": 30,
   "id": "84058acd",
   "metadata": {},
   "outputs": [
    {
     "name": "stdout",
     "output_type": "stream",
     "text": [
      "[5, 9, 3, 5, 5, 9, 3, 5]\n"
     ]
    }
   ],
   "source": [
    "A_1 = [5,9]\n",
    "A_2 = [3,5]\n",
    "A_3=A_1+A_2\n",
    "A_4=A_3*2\n",
    "print(A_4)"
   ]
  },
  {
   "cell_type": "code",
   "execution_count": 34,
   "id": "2eb10571",
   "metadata": {},
   "outputs": [
    {
     "name": "stdout",
     "output_type": "stream",
     "text": [
      "[0, 2, 4, 6, 8, 10, 12, 14, 16, 18, 20, 22, 24, 26, 28, 30, 32, 34, 36, 38, 40, 42, 44, 46, 48]\n"
     ]
    }
   ],
   "source": [
    "digit=[]\n",
    "for i in range(50):\n",
    "    digit.append(i)\n",
    "\n",
    "# print(digit)\n",
    "print(digit[0::2])"
   ]
  },
  {
   "cell_type": "code",
   "execution_count": 35,
   "id": "dcd8fde6",
   "metadata": {},
   "outputs": [
    {
     "name": "stdout",
     "output_type": "stream",
     "text": [
      "{'3'}\n"
     ]
    }
   ],
   "source": [
    "A = set('1234')\n",
    "B = set('3')\n",
    "print(A & B)"
   ]
  },
  {
   "cell_type": "code",
   "execution_count": 41,
   "id": "a861f957",
   "metadata": {},
   "outputs": [
    {
     "name": "stdout",
     "output_type": "stream",
     "text": [
      "0.1715700807582402\n"
     ]
    }
   ],
   "source": [
    "import random as rd\n",
    "print(rd.random())"
   ]
  },
  {
   "cell_type": "code",
   "execution_count": null,
   "id": "3d2e4978",
   "metadata": {},
   "outputs": [],
   "source": []
  }
 ],
 "metadata": {
  "kernelspec": {
   "display_name": "Python 3 (ipykernel)",
   "language": "python",
   "name": "python3"
  },
  "language_info": {
   "codemirror_mode": {
    "name": "ipython",
    "version": 3
   },
   "file_extension": ".py",
   "mimetype": "text/x-python",
   "name": "python",
   "nbconvert_exporter": "python",
   "pygments_lexer": "ipython3",
   "version": "3.8.8"
  },
  "toc": {
   "base_numbering": 1,
   "nav_menu": {},
   "number_sections": true,
   "sideBar": true,
   "skip_h1_title": false,
   "title_cell": "Table of Contents",
   "title_sidebar": "Contents",
   "toc_cell": false,
   "toc_position": {},
   "toc_section_display": true,
   "toc_window_display": false
  }
 },
 "nbformat": 4,
 "nbformat_minor": 5
}
